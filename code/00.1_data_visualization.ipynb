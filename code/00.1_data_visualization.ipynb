{
 "cells": [
  {
   "cell_type": "markdown",
   "metadata": {},
   "source": [
    "Open the images, crop and visualize them"
   ]
  },
  {
   "cell_type": "markdown",
   "metadata": {},
   "source": [
    "# Libraries"
   ]
  },
  {
   "cell_type": "code",
   "execution_count": 4,
   "metadata": {},
   "outputs": [],
   "source": [
    "import os\n",
    "import tarfile\n",
    "import rasterio\n",
    "from rasterio.mask import mask\n",
    "import geopandas as gpd\n",
    "import matplotlib.pyplot as plt\n",
    "import pandas as pd\n"
   ]
  },
  {
   "cell_type": "code",
   "execution_count": 58,
   "metadata": {},
   "outputs": [
    {
     "name": "stdout",
     "output_type": "stream",
     "text": [
      "svalbard\n"
     ]
    }
   ],
   "source": [
    "# print the name of current environment\n",
    "print(os.environ['CONDA_DEFAULT_ENV'])"
   ]
  },
  {
   "cell_type": "markdown",
   "metadata": {},
   "source": [
    "## Paths\n",
    "\n",
    "read the paths of the images\n",
    "\n",
    "and define list of images\n"
   ]
  },
  {
   "cell_type": "code",
   "execution_count": 59,
   "metadata": {},
   "outputs": [
    {
     "name": "stdout",
     "output_type": "stream",
     "text": [
      "La directory corrente è: /mnt/d/Dropbox/R_projects/VSLAIM/code\n"
     ]
    }
   ],
   "source": [
    "os.chdir('/mnt/d/Dropbox/R_projects/VSLAIM/code')\n",
    "print(\"La directory corrente è:\", os.getcwd())\n"
   ]
  },
  {
   "cell_type": "code",
   "execution_count": 60,
   "metadata": {},
   "outputs": [],
   "source": [
    "os.chdir('../')\n",
    "\n",
    "path = os.path.join('data', 'mypaths.csv')  # Combina cartella e nome file\n",
    "df = pd.read_csv(path, sep=';')  # Leggi il file CSV\n"
   ]
  },
  {
   "cell_type": "code",
   "execution_count": 61,
   "metadata": {},
   "outputs": [],
   "source": [
    "mypath = df.path[(df['var'] == 'landsat_data') & (df['year'] == 2017)]\n"
   ]
  },
  {
   "cell_type": "code",
   "execution_count": 62,
   "metadata": {},
   "outputs": [],
   "source": [
    "# as string\n",
    "mypath = mypath.values[0]"
   ]
  },
  {
   "cell_type": "code",
   "execution_count": 42,
   "metadata": {},
   "outputs": [],
   "source": [
    "# remove the first 2 characters\n",
    "mypath = mypath[2:]"
   ]
  },
  {
   "cell_type": "code",
   "execution_count": 47,
   "metadata": {},
   "outputs": [],
   "source": [
    "mypath = \"/mnt/e\" + mypath + \"/\"\n"
   ]
  },
  {
   "cell_type": "code",
   "execution_count": 48,
   "metadata": {},
   "outputs": [
    {
     "data": {
      "text/plain": [
       "['LC08_L2SP_191029_20170620_20200903_02_T1.tar',\n",
       " 'LC08_L2SP_191029_20170722_20200903_02_T1.tar',\n",
       " 'LC08_L2SP_191029_20170823_20200903_02_T1.tar',\n",
       " 'LC08_L2SP_191029_20170908_20200903_02_T1.tar',\n",
       " 'LC08_L2SP_191029_20171010_20200903_02_T1.tar',\n",
       " 'LC08_L2SP_192028_20170830_20200903_02_T1.tar']"
      ]
     },
     "execution_count": 48,
     "metadata": {},
     "output_type": "execute_result"
    }
   ],
   "source": [
    "os.listdir(mypath)"
   ]
  },
  {
   "cell_type": "code",
   "execution_count": 49,
   "metadata": {},
   "outputs": [],
   "source": [
    "# Ottieni la lista di file TAR\n",
    "tar_files = [f for f in os.listdir(mypath) if f.endswith('.tar')]\n"
   ]
  },
  {
   "cell_type": "code",
   "execution_count": 50,
   "metadata": {},
   "outputs": [
    {
     "data": {
      "text/plain": [
       "['LC08_L2SP_191029_20170620_20200903_02_T1.tar',\n",
       " 'LC08_L2SP_191029_20170722_20200903_02_T1.tar',\n",
       " 'LC08_L2SP_191029_20170823_20200903_02_T1.tar',\n",
       " 'LC08_L2SP_191029_20170908_20200903_02_T1.tar',\n",
       " 'LC08_L2SP_191029_20171010_20200903_02_T1.tar',\n",
       " 'LC08_L2SP_192028_20170830_20200903_02_T1.tar']"
      ]
     },
     "execution_count": 50,
     "metadata": {},
     "output_type": "execute_result"
    }
   ],
   "source": [
    "tar_files"
   ]
  },
  {
   "cell_type": "code",
   "execution_count": 51,
   "metadata": {},
   "outputs": [],
   "source": [
    "#new df with the tar files\n",
    "df_tar = pd.DataFrame(tar_files, columns=['tar_files'])"
   ]
  },
  {
   "cell_type": "code",
   "execution_count": 56,
   "metadata": {},
   "outputs": [
    {
     "name": "stdout",
     "output_type": "stream",
     "text": [
      "Archivio LC08_L2SP_191029_20170620_20200903_02_T1.tar estratto in /mnt/e/Landsat/2017/LC08_L2SP_191029_20170620_20200903_02_T1\n",
      "Archivio LC08_L2SP_191029_20170722_20200903_02_T1.tar estratto in /mnt/e/Landsat/2017/LC08_L2SP_191029_20170722_20200903_02_T1\n",
      "Archivio LC08_L2SP_191029_20170823_20200903_02_T1.tar estratto in /mnt/e/Landsat/2017/LC08_L2SP_191029_20170823_20200903_02_T1\n",
      "Archivio LC08_L2SP_191029_20170908_20200903_02_T1.tar estratto in /mnt/e/Landsat/2017/LC08_L2SP_191029_20170908_20200903_02_T1\n",
      "Archivio LC08_L2SP_191029_20171010_20200903_02_T1.tar estratto in /mnt/e/Landsat/2017/LC08_L2SP_191029_20171010_20200903_02_T1\n",
      "Archivio LC08_L2SP_192028_20170830_20200903_02_T1.tar estratto in /mnt/e/Landsat/2017/LC08_L2SP_192028_20170830_20200903_02_T1\n"
     ]
    }
   ],
   "source": [
    "# Estrazione degli archivi in sottocartelle\n",
    "for tar_file in tar_files:\n",
    "    # Costruisci il percorso completo del file TAR\n",
    "    tar_path = os.path.join(mypath, tar_file)\n",
    "    \n",
    "    # Nome della sottocartella (senza estensione .tar)\n",
    "    folder_name = tar_file.replace('.tar', '')\n",
    "    extract_path = os.path.join(mypath, folder_name)\n",
    "    \n",
    "    # Se la cartella esiste già ed è non vuota, saltare l'estrazione\n",
    "    if os.path.exists(extract_path) and os.listdir(extract_path):\n",
    "        print(f\"Cartella {extract_path} già esistente e non vuota. Salto l'estrazione.\")\n",
    "        continue  # Salta alla prossima iterazione\n",
    "\n",
    "    # Crea la sottocartella se non esiste\n",
    "    if not os.path.exists(extract_path):\n",
    "        os.makedirs(extract_path)\n",
    "    \n",
    "    # Estrai il contenuto del TAR nella sottocartella\n",
    "    with tarfile.open(tar_path, 'r') as tar:\n",
    "        tar.extractall(path=extract_path)\n",
    "        print(f\"Archivio {tar_file} estratto in {extract_path}\")"
   ]
  },
  {
   "cell_type": "code",
   "execution_count": 69,
   "metadata": {},
   "outputs": [
    {
     "data": {
      "text/plain": [
       "1    D:/Dropbox/R_projects/shapeme/out/laguna_noval...\n",
       "Name: path, dtype: object"
      ]
     },
     "execution_count": 69,
     "metadata": {},
     "output_type": "execute_result"
    }
   ],
   "source": []
  },
  {
   "cell_type": "code",
   "execution_count": 71,
   "metadata": {},
   "outputs": [
    {
     "data": {
      "text/plain": [
       "'D:\\\\Dropbox\\\\R_projects\\\\shapeme\\\\out\\\\laguna_novally_simple_wgs_manual.geojson'"
      ]
     },
     "execution_count": 71,
     "metadata": {},
     "output_type": "execute_result"
    }
   ],
   "source": [
    "\"D:\\Dropbox\\R_projects\\shapeme\\out\\laguna_novally_simple_wgs_manual.geojson\""
   ]
  },
  {
   "cell_type": "code",
   "execution_count": null,
   "metadata": {},
   "outputs": [],
   "source": []
  },
  {
   "cell_type": "code",
   "execution_count": 76,
   "metadata": {},
   "outputs": [
    {
     "data": {
      "text/plain": [
       "<Axes: >"
      ]
     },
     "execution_count": 76,
     "metadata": {},
     "output_type": "execute_result"
    },
    {
     "data": {
      "image/png": "[encoded data removed]",
      "text/plain": [
       "<Figure size 640x480 with 1 Axes>"
      ]
     },
     "metadata": {},
     "output_type": "display_data"
    }
   ],
   "source": [
    "# area di interesse\n",
    "# Carica lo shapefile\n",
    "mypath = df.path[(df['var'] == 'shape_ve')]\n",
    "shapefile = \"/mnt/d\" + mypath.values[0][2:] \n",
    "shapes = gpd.read_file(shapefile)\n",
    "# map\n",
    "shapes.plot()"
   ]
  }
 ],
 "metadata": {
  "kernelspec": {
   "display_name": "Python 3",
   "language": "python",
   "name": "python3"
  },
  "language_info": {
   "codemirror_mode": {
    "name": "ipython",
    "version": 3
   },
   "file_extension": ".py",
   "mimetype": "text/x-python",
   "name": "python",
   "nbconvert_exporter": "python",
   "pygments_lexer": "ipython3",
   "version": "3.9.18"
  }
 },
 "nbformat": 4,
 "nbformat_minor": 2
}
